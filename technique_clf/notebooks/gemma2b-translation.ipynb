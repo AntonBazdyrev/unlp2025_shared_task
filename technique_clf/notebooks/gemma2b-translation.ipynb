{
 "cells": [
  {
   "cell_type": "code",
   "execution_count": 1,
   "id": "cbd32c38-41d8-4056-9cd5-7fa763ca6047",
   "metadata": {
    "execution": {
     "iopub.execute_input": "2025-03-27T09:01:17.211685Z",
     "iopub.status.busy": "2025-03-27T09:01:17.211407Z",
     "iopub.status.idle": "2025-03-27T09:01:24.198734Z",
     "shell.execute_reply": "2025-03-27T09:01:24.197935Z",
     "shell.execute_reply.started": "2025-03-27T09:01:17.211662Z"
    },
    "trusted": true
   },
   "outputs": [
    {
     "name": "stdout",
     "output_type": "stream",
     "text": [
      "Collecting bitsandbytes\n",
      "  Downloading bitsandbytes-0.45.4-py3-none-manylinux_2_24_x86_64.whl.metadata (5.0 kB)\n",
      "Requirement already satisfied: torch<3,>=2.0 in /usr/local/lib/python3.10/dist-packages (from bitsandbytes) (2.5.1+cu121)\n",
      "Requirement already satisfied: numpy>=1.17 in /usr/local/lib/python3.10/dist-packages (from bitsandbytes) (1.26.4)\n",
      "Requirement already satisfied: mkl_fft in /usr/local/lib/python3.10/dist-packages (from numpy>=1.17->bitsandbytes) (1.3.8)\n",
      "Requirement already satisfied: mkl_random in /usr/local/lib/python3.10/dist-packages (from numpy>=1.17->bitsandbytes) (1.2.4)\n",
      "Requirement already satisfied: mkl_umath in /usr/local/lib/python3.10/dist-packages (from numpy>=1.17->bitsandbytes) (0.1.1)\n",
      "Requirement already satisfied: mkl in /usr/local/lib/python3.10/dist-packages (from numpy>=1.17->bitsandbytes) (2025.0.1)\n",
      "Requirement already satisfied: tbb4py in /usr/local/lib/python3.10/dist-packages (from numpy>=1.17->bitsandbytes) (2022.0.0)\n",
      "Requirement already satisfied: mkl-service in /usr/local/lib/python3.10/dist-packages (from numpy>=1.17->bitsandbytes) (2.4.1)\n",
      "Requirement already satisfied: filelock in /usr/local/lib/python3.10/dist-packages (from torch<3,>=2.0->bitsandbytes) (3.17.0)\n",
      "Requirement already satisfied: typing-extensions>=4.8.0 in /usr/local/lib/python3.10/dist-packages (from torch<3,>=2.0->bitsandbytes) (4.12.2)\n",
      "Requirement already satisfied: networkx in /usr/local/lib/python3.10/dist-packages (from torch<3,>=2.0->bitsandbytes) (3.4.2)\n",
      "Requirement already satisfied: jinja2 in /usr/local/lib/python3.10/dist-packages (from torch<3,>=2.0->bitsandbytes) (3.1.4)\n",
      "Requirement already satisfied: fsspec in /usr/local/lib/python3.10/dist-packages (from torch<3,>=2.0->bitsandbytes) (2024.12.0)\n",
      "Requirement already satisfied: sympy==1.13.1 in /usr/local/lib/python3.10/dist-packages (from torch<3,>=2.0->bitsandbytes) (1.13.1)\n",
      "Requirement already satisfied: mpmath<1.4,>=1.1.0 in /usr/local/lib/python3.10/dist-packages (from sympy==1.13.1->torch<3,>=2.0->bitsandbytes) (1.3.0)\n",
      "Requirement already satisfied: MarkupSafe>=2.0 in /usr/local/lib/python3.10/dist-packages (from jinja2->torch<3,>=2.0->bitsandbytes) (3.0.2)\n",
      "Requirement already satisfied: intel-openmp>=2024 in /usr/local/lib/python3.10/dist-packages (from mkl->numpy>=1.17->bitsandbytes) (2024.2.0)\n",
      "Requirement already satisfied: tbb==2022.* in /usr/local/lib/python3.10/dist-packages (from mkl->numpy>=1.17->bitsandbytes) (2022.0.0)\n",
      "Requirement already satisfied: tcmlib==1.* in /usr/local/lib/python3.10/dist-packages (from tbb==2022.*->mkl->numpy>=1.17->bitsandbytes) (1.2.0)\n",
      "Requirement already satisfied: intel-cmplr-lib-rt in /usr/local/lib/python3.10/dist-packages (from mkl_umath->numpy>=1.17->bitsandbytes) (2024.2.0)\n",
      "Requirement already satisfied: intel-cmplr-lib-ur==2024.2.0 in /usr/local/lib/python3.10/dist-packages (from intel-openmp>=2024->mkl->numpy>=1.17->bitsandbytes) (2024.2.0)\n",
      "Downloading bitsandbytes-0.45.4-py3-none-manylinux_2_24_x86_64.whl (76.0 MB)\n",
      "\u001b[2K   \u001b[90m━━━━━━━━━━━━━━━━━━━━━━━━━━━━━━━━━━━━━━━━\u001b[0m \u001b[32m76.0/76.0 MB\u001b[0m \u001b[31m22.3 MB/s\u001b[0m eta \u001b[36m0:00:00\u001b[0m:00:01\u001b[0m00:01\u001b[0m\n",
      "\u001b[?25hInstalling collected packages: bitsandbytes\n",
      "Successfully installed bitsandbytes-0.45.4\n"
     ]
    }
   ],
   "source": [
    "!pip install -U bitsandbytes"
   ]
  },
  {
   "cell_type": "code",
   "execution_count": null,
   "id": "77a2ec5e-4ef8-418d-9de5-883e1d213a88",
   "metadata": {
    "execution": {
     "iopub.execute_input": "2025-03-27T09:01:24.199907Z",
     "iopub.status.busy": "2025-03-27T09:01:24.199688Z",
     "iopub.status.idle": "2025-03-27T09:01:39.250327Z",
     "shell.execute_reply": "2025-03-27T09:01:39.249553Z",
     "shell.execute_reply.started": "2025-03-27T09:01:24.199888Z"
    },
    "trusted": true
   },
   "outputs": [
    {
     "name": "stderr",
     "output_type": "stream",
     "text": [
      "\u001b[34m\u001b[1mwandb\u001b[0m: Using wandb-core as the SDK backend.  Please refer to https://wandb.me/wandb-core for more information.\n",
      "\u001b[34m\u001b[1mwandb\u001b[0m: Currently logged in as: \u001b[33mshah1st-work-ua\u001b[0m (\u001b[33mshah1st-work-ua-igor-sikorsky-kyiv-polytechnic-institute\u001b[0m). Use \u001b[1m`wandb login --relogin`\u001b[0m to force relogin\n",
      "\u001b[34m\u001b[1mwandb\u001b[0m: \u001b[33mWARNING\u001b[0m If you're specifying your api key in code, ensure this code is not shared publicly.\n",
      "\u001b[34m\u001b[1mwandb\u001b[0m: \u001b[33mWARNING\u001b[0m Consider setting the WANDB_API_KEY environment variable, or running `wandb login` from the command line.\n",
      "\u001b[34m\u001b[1mwandb\u001b[0m: Appending key for api.wandb.ai to your netrc file: /root/.netrc\n"
     ]
    },
    {
     "data": {
      "text/html": [
       "Tracking run with wandb version 0.19.1"
      ],
      "text/plain": [
       "<IPython.core.display.HTML object>"
      ]
     },
     "metadata": {},
     "output_type": "display_data"
    },
    {
     "data": {
      "text/html": [
       "Run data is saved locally in <code>/kaggle/working/wandb/run-20250327_090132-9j8imdvi</code>"
      ],
      "text/plain": [
       "<IPython.core.display.HTML object>"
      ]
     },
     "metadata": {},
     "output_type": "display_data"
    },
    {
     "data": {
      "text/html": [
       "Syncing run <strong><a href='https://wandb.ai/shah1st-work-ua-igor-sikorsky-kyiv-polytechnic-institute/unlp-clf-task/runs/9j8imdvi' target=\"_blank\">gemma2-2b-baseline-translated</a></strong> to <a href='https://wandb.ai/shah1st-work-ua-igor-sikorsky-kyiv-polytechnic-institute/unlp-clf-task' target=\"_blank\">Weights & Biases</a> (<a href='https://wandb.me/developer-guide' target=\"_blank\">docs</a>)<br>"
      ],
      "text/plain": [
       "<IPython.core.display.HTML object>"
      ]
     },
     "metadata": {},
     "output_type": "display_data"
    },
    {
     "data": {
      "text/html": [
       " View project at <a href='https://wandb.ai/shah1st-work-ua-igor-sikorsky-kyiv-polytechnic-institute/unlp-clf-task' target=\"_blank\">https://wandb.ai/shah1st-work-ua-igor-sikorsky-kyiv-polytechnic-institute/unlp-clf-task</a>"
      ],
      "text/plain": [
       "<IPython.core.display.HTML object>"
      ]
     },
     "metadata": {},
     "output_type": "display_data"
    },
    {
     "data": {
      "text/html": [
       " View run at <a href='https://wandb.ai/shah1st-work-ua-igor-sikorsky-kyiv-polytechnic-institute/unlp-clf-task/runs/9j8imdvi' target=\"_blank\">https://wandb.ai/shah1st-work-ua-igor-sikorsky-kyiv-polytechnic-institute/unlp-clf-task/runs/9j8imdvi</a>"
      ],
      "text/plain": [
       "<IPython.core.display.HTML object>"
      ]
     },
     "metadata": {},
     "output_type": "display_data"
    },
    {
     "data": {
      "text/html": [
       "<button onClick=\"this.nextSibling.style.display='block';this.style.display='none';\">Display W&B run</button><iframe src='https://wandb.ai/shah1st-work-ua-igor-sikorsky-kyiv-polytechnic-institute/unlp-clf-task/runs/9j8imdvi?jupyter=true' style='border:none;width:100%;height:420px;display:none;'></iframe>"
      ],
      "text/plain": [
       "<wandb.sdk.wandb_run.Run at 0x78b47d24cd90>"
      ]
     },
     "execution_count": 2,
     "metadata": {},
     "output_type": "execute_result"
    }
   ],
   "source": [
    "import wandb\n",
    "\n",
    "# Initialize with team/entity\n",
    "wandb.init(\n",
    "    project=\"unlp-clf-task\",\n",
    "    entity=\"shah1st-work-ua-igor-sikorsky-kyiv-polytechnic-institute\", \n",
    "    name='gemma2-2b-baseline-translated',\n",
    "    #init_timeout=240\n",
    ")"
   ]
  },
  {
   "cell_type": "code",
   "execution_count": 3,
   "id": "5187a235-1e7a-493c-af0d-4dabc7c34b17",
   "metadata": {
    "execution": {
     "iopub.execute_input": "2025-03-27T09:01:39.251358Z",
     "iopub.status.busy": "2025-03-27T09:01:39.251088Z",
     "iopub.status.idle": "2025-03-27T09:01:40.532967Z",
     "shell.execute_reply": "2025-03-27T09:01:40.532330Z",
     "shell.execute_reply.started": "2025-03-27T09:01:39.251337Z"
    },
    "trusted": true
   },
   "outputs": [],
   "source": [
    "import pandas as pd\n",
    "\n",
    "df = pd.read_parquet('/kaggle/input/translated-train-unlp-2025/translated_train.parquet')\n",
    "cv = pd.read_csv('/kaggle/input/translated-train-unlp-2025/cv_split.csv')\n",
    "df = df.merge(cv, on='id', how='left')\n",
    "\n",
    "test = pd.read_csv('/kaggle/input/translated-train-unlp-2025/translated_test.csv')"
   ]
  },
  {
   "cell_type": "code",
   "execution_count": 4,
   "id": "f2e56efd-3482-415f-8100-90792e4d56e5",
   "metadata": {
    "execution": {
     "iopub.execute_input": "2025-03-27T09:01:40.534031Z",
     "iopub.status.busy": "2025-03-27T09:01:40.533738Z",
     "iopub.status.idle": "2025-03-27T09:01:40.539366Z",
     "shell.execute_reply": "2025-03-27T09:01:40.538628Z",
     "shell.execute_reply.started": "2025-03-27T09:01:40.534002Z"
    },
    "trusted": true
   },
   "outputs": [],
   "source": [
    "import numpy as np\n",
    "\n",
    "df['is_valid'] = df.fold == 4"
   ]
  },
  {
   "cell_type": "code",
   "execution_count": 5,
   "id": "1ace449a-f98f-45b8-8558-8e2f27fafac9",
   "metadata": {
    "execution": {
     "iopub.execute_input": "2025-03-27T09:01:40.540616Z",
     "iopub.status.busy": "2025-03-27T09:01:40.540338Z",
     "iopub.status.idle": "2025-03-27T09:01:40.572445Z",
     "shell.execute_reply": "2025-03-27T09:01:40.571689Z",
     "shell.execute_reply.started": "2025-03-27T09:01:40.540589Z"
    },
    "trusted": true
   },
   "outputs": [],
   "source": [
    "import json\n",
    "\n",
    "def prompt_generator(text):\n",
    "    conversation = f\"\"\"<start_of_turn>user\n",
    "You are an expert in analyzing social media posts. You need to determine the extent to which posts contain manipulation techniques.\n",
    "The text of the article: {text}\n",
    "<end_of_turn>\"\"\"\n",
    "    return conversation"
   ]
  },
  {
   "cell_type": "code",
   "execution_count": 6,
   "id": "c63be635-42db-40f0-993e-65951e360ae4",
   "metadata": {
    "execution": {
     "iopub.execute_input": "2025-03-27T09:01:40.574367Z",
     "iopub.status.busy": "2025-03-27T09:01:40.574130Z",
     "iopub.status.idle": "2025-03-27T09:01:40.601953Z",
     "shell.execute_reply": "2025-03-27T09:01:40.601338Z",
     "shell.execute_reply.started": "2025-03-27T09:01:40.574348Z"
    },
    "trusted": true
   },
   "outputs": [],
   "source": [
    "df.loc[:, 'prompt'] = df.translated_content.apply(prompt_generator)\n",
    "test.loc[:, 'prompt'] = test.translated_content.apply(prompt_generator)"
   ]
  },
  {
   "cell_type": "code",
   "execution_count": 7,
   "id": "f7df4595-badf-463b-bc23-992fa167fa59",
   "metadata": {
    "execution": {
     "iopub.execute_input": "2025-03-27T09:01:40.603211Z",
     "iopub.status.busy": "2025-03-27T09:01:40.602921Z",
     "iopub.status.idle": "2025-03-27T09:01:40.713285Z",
     "shell.execute_reply": "2025-03-27T09:01:40.712388Z",
     "shell.execute_reply.started": "2025-03-27T09:01:40.603185Z"
    },
    "trusted": true
   },
   "outputs": [
    {
     "data": {
      "application/vnd.jupyter.widget-view+json": {
       "model_id": "54f86b25468a4925b74c705641c5a8a5",
       "version_major": 2,
       "version_minor": 0
      },
      "text/plain": [
       "VBox(children=(HTML(value='<center> <img\\nsrc=https://huggingface.co/front/assets/huggingface_logo-noborder.sv…"
      ]
     },
     "metadata": {},
     "output_type": "display_data"
    }
   ],
   "source": [
    "from huggingface_hub import notebook_login\n",
    "notebook_login()"
   ]
  },
  {
   "cell_type": "code",
   "execution_count": 9,
   "id": "9db4eb59-0240-4a32-9d22-d38e39073373",
   "metadata": {
    "execution": {
     "iopub.execute_input": "2025-03-27T09:05:02.244861Z",
     "iopub.status.busy": "2025-03-27T09:05:02.244567Z",
     "iopub.status.idle": "2025-03-27T09:05:23.075690Z",
     "shell.execute_reply": "2025-03-27T09:05:23.074664Z",
     "shell.execute_reply.started": "2025-03-27T09:05:02.244839Z"
    },
    "trusted": true
   },
   "outputs": [
    {
     "data": {
      "application/vnd.jupyter.widget-view+json": {
       "model_id": "0c9995b3732449aa913b5562c55001f8",
       "version_major": 2,
       "version_minor": 0
      },
      "text/plain": [
       "tokenizer_config.json:   0%|          | 0.00/47.0k [00:00<?, ?B/s]"
      ]
     },
     "metadata": {},
     "output_type": "display_data"
    },
    {
     "data": {
      "application/vnd.jupyter.widget-view+json": {
       "model_id": "43823753c38e483c8001e14adbd5db53",
       "version_major": 2,
       "version_minor": 0
      },
      "text/plain": [
       "tokenizer.model:   0%|          | 0.00/4.24M [00:00<?, ?B/s]"
      ]
     },
     "metadata": {},
     "output_type": "display_data"
    },
    {
     "data": {
      "application/vnd.jupyter.widget-view+json": {
       "model_id": "005b334f1d634aaeb4979079d9e48612",
       "version_major": 2,
       "version_minor": 0
      },
      "text/plain": [
       "tokenizer.json:   0%|          | 0.00/17.5M [00:00<?, ?B/s]"
      ]
     },
     "metadata": {},
     "output_type": "display_data"
    },
    {
     "data": {
      "application/vnd.jupyter.widget-view+json": {
       "model_id": "88d4811f3d6d4cd08756fae02a546e80",
       "version_major": 2,
       "version_minor": 0
      },
      "text/plain": [
       "special_tokens_map.json:   0%|          | 0.00/636 [00:00<?, ?B/s]"
      ]
     },
     "metadata": {},
     "output_type": "display_data"
    },
    {
     "data": {
      "application/vnd.jupyter.widget-view+json": {
       "model_id": "b538d0bc30134fdb9647c9b2d675dc98",
       "version_major": 2,
       "version_minor": 0
      },
      "text/plain": [
       "  0%|          | 0/3822 [00:00<?, ?it/s]"
      ]
     },
     "metadata": {},
     "output_type": "display_data"
    },
    {
     "data": {
      "application/vnd.jupyter.widget-view+json": {
       "model_id": "51e4688098fb4d73a2633251d5efdc46",
       "version_major": 2,
       "version_minor": 0
      },
      "text/plain": [
       "  0%|          | 0/5735 [00:00<?, ?it/s]"
      ]
     },
     "metadata": {},
     "output_type": "display_data"
    }
   ],
   "source": [
    "from tqdm.autonotebook import tqdm\n",
    "\n",
    "tqdm.pandas()\n",
    "from transformers import pipeline, AutoTokenizer\n",
    "\n",
    "PRETRAINED_MODEL = 'google/gemma-2-2b-it'\n",
    "MAX_LENGTH = 2048\n",
    "\n",
    "tokenizer = AutoTokenizer.from_pretrained(\n",
    "    PRETRAINED_MODEL\n",
    ")\n",
    "\n",
    "tokenizer = AutoTokenizer.from_pretrained(PRETRAINED_MODEL)\n",
    "tokenizer.padding_side = 'right'\n",
    "tokenizer.add_eos_token = True\n",
    "\n",
    "df['full_text'] = df.prompt.progress_apply(\n",
    "    lambda x: tokenizer.decode(tokenizer(x, add_special_tokens=False)['input_ids'][:MAX_LENGTH])\n",
    ")\n",
    "test['full_text'] = test.prompt.progress_apply(\n",
    "    lambda x: tokenizer.decode(tokenizer(x, add_special_tokens=False)['input_ids'][:MAX_LENGTH])\n",
    ")\n",
    "\n",
    "def tokenize(sample):\n",
    "    tokenized = tokenizer(sample['full_text'])\n",
    "    return tokenized"
   ]
  },
  {
   "cell_type": "code",
   "execution_count": 10,
   "id": "d9bc9269-5b25-4521-8847-fffaa60579ab",
   "metadata": {
    "execution": {
     "iopub.execute_input": "2025-03-27T09:05:23.077257Z",
     "iopub.status.busy": "2025-03-27T09:05:23.076899Z",
     "iopub.status.idle": "2025-03-27T09:05:24.175256Z",
     "shell.execute_reply": "2025-03-27T09:05:24.174583Z",
     "shell.execute_reply.started": "2025-03-27T09:05:23.077219Z"
    },
    "trusted": true
   },
   "outputs": [],
   "source": [
    "ssubmission = pd.read_csv('/kaggle/input/translated-train-unlp-2025/sample_submission.csv')\n",
    "targets = ssubmission.set_index('id').columns\n",
    "\n",
    "from collections.abc import Iterable\n",
    "\n",
    "for col in targets:\n",
    "    df[col] = 0\n",
    "\n",
    "import numpy as np\n",
    "for ind, row in df.iterrows():\n",
    "    if isinstance(row['techniques'], Iterable):\n",
    "        for t in row['techniques']:\n",
    "            df.loc[ind, t] = 1"
   ]
  },
  {
   "cell_type": "code",
   "execution_count": 11,
   "id": "aaba9797-79db-4fa1-b419-ad2315e0cfc2",
   "metadata": {
    "execution": {
     "iopub.execute_input": "2025-03-27T09:05:24.177138Z",
     "iopub.status.busy": "2025-03-27T09:05:24.176863Z",
     "iopub.status.idle": "2025-03-27T09:05:24.184765Z",
     "shell.execute_reply": "2025-03-27T09:05:24.184063Z",
     "shell.execute_reply.started": "2025-03-27T09:05:24.177103Z"
    },
    "trusted": true
   },
   "outputs": [],
   "source": [
    "df['labels'] = list(df[targets].values)"
   ]
  },
  {
   "cell_type": "code",
   "execution_count": 12,
   "id": "4d12087d-15ac-4c9f-b29a-6e3400c35b79",
   "metadata": {
    "execution": {
     "iopub.execute_input": "2025-03-27T09:05:24.186046Z",
     "iopub.status.busy": "2025-03-27T09:05:24.185858Z",
     "iopub.status.idle": "2025-03-27T09:05:32.583134Z",
     "shell.execute_reply": "2025-03-27T09:05:32.582416Z",
     "shell.execute_reply.started": "2025-03-27T09:05:24.186030Z"
    },
    "trusted": true
   },
   "outputs": [
    {
     "data": {
      "application/vnd.jupyter.widget-view+json": {
       "model_id": "e458364b2a6f451f87964e32a8826580",
       "version_major": 2,
       "version_minor": 0
      },
      "text/plain": [
       "Map:   0%|          | 0/3058 [00:00<?, ? examples/s]"
      ]
     },
     "metadata": {},
     "output_type": "display_data"
    },
    {
     "data": {
      "application/vnd.jupyter.widget-view+json": {
       "model_id": "0cac37d3af29425283ac5dc794b3969f",
       "version_major": 2,
       "version_minor": 0
      },
      "text/plain": [
       "Map:   0%|          | 0/764 [00:00<?, ? examples/s]"
      ]
     },
     "metadata": {},
     "output_type": "display_data"
    },
    {
     "data": {
      "application/vnd.jupyter.widget-view+json": {
       "model_id": "45e8632629b44040b6cf31fd853b99de",
       "version_major": 2,
       "version_minor": 0
      },
      "text/plain": [
       "Map:   0%|          | 0/5735 [00:00<?, ? examples/s]"
      ]
     },
     "metadata": {},
     "output_type": "display_data"
    }
   ],
   "source": [
    "from datasets import Dataset\n",
    "\n",
    "ds_train = Dataset.from_pandas(df[df.is_valid == 0][['full_text', 'labels']].copy())\n",
    "ds_eval = Dataset.from_pandas(df[df.is_valid == 1][['full_text', 'labels']].copy())\n",
    "ds_test = Dataset.from_pandas(test[['full_text']].copy())\n",
    "\n",
    "ds_train = ds_train.map(tokenize)\n",
    "remove_columns = [c for c in ds_train.features.keys() if c not in ['input_ids', 'attention_mask', 'labels']]\n",
    "ds_train = ds_train.remove_columns(remove_columns)\n",
    "\n",
    "ds_eval = ds_eval.map(tokenize)\n",
    "remove_columns = [c for c in ds_eval.features.keys() if c not in ['input_ids', 'attention_mask', 'labels']]\n",
    "ds_eval = ds_eval.remove_columns(remove_columns)\n",
    "\n",
    "ds_test = ds_test.map(tokenize)\n",
    "remove_columns = [c for c in ds_test.features.keys() if c not in ['input_ids', 'attention_mask', 'labels']]\n",
    "ds_test = ds_test.remove_columns(remove_columns)"
   ]
  },
  {
   "cell_type": "code",
   "execution_count": 13,
   "id": "1a95a43a-10de-4318-abee-6d4230ab375f",
   "metadata": {
    "execution": {
     "iopub.execute_input": "2025-03-27T09:05:32.584060Z",
     "iopub.status.busy": "2025-03-27T09:05:32.583865Z",
     "iopub.status.idle": "2025-03-27T09:05:57.175441Z",
     "shell.execute_reply": "2025-03-27T09:05:57.174574Z",
     "shell.execute_reply.started": "2025-03-27T09:05:32.584042Z"
    },
    "trusted": true
   },
   "outputs": [
    {
     "data": {
      "application/vnd.jupyter.widget-view+json": {
       "model_id": "bf1d72b3d55540a7beac4b3f2d191775",
       "version_major": 2,
       "version_minor": 0
      },
      "text/plain": [
       "config.json:   0%|          | 0.00/838 [00:00<?, ?B/s]"
      ]
     },
     "metadata": {},
     "output_type": "display_data"
    },
    {
     "data": {
      "application/vnd.jupyter.widget-view+json": {
       "model_id": "5528c032f696450f81ae079ec71034aa",
       "version_major": 2,
       "version_minor": 0
      },
      "text/plain": [
       "model.safetensors.index.json:   0%|          | 0.00/24.2k [00:00<?, ?B/s]"
      ]
     },
     "metadata": {},
     "output_type": "display_data"
    },
    {
     "data": {
      "application/vnd.jupyter.widget-view+json": {
       "model_id": "7286f17ca2744d9380433e869a4b83ce",
       "version_major": 2,
       "version_minor": 0
      },
      "text/plain": [
       "Downloading shards:   0%|          | 0/2 [00:00<?, ?it/s]"
      ]
     },
     "metadata": {},
     "output_type": "display_data"
    },
    {
     "data": {
      "application/vnd.jupyter.widget-view+json": {
       "model_id": "df0df8fb7c714c568bf79e49934f22f0",
       "version_major": 2,
       "version_minor": 0
      },
      "text/plain": [
       "model-00001-of-00002.safetensors:   0%|          | 0.00/4.99G [00:00<?, ?B/s]"
      ]
     },
     "metadata": {},
     "output_type": "display_data"
    },
    {
     "data": {
      "application/vnd.jupyter.widget-view+json": {
       "model_id": "bfc6185b9964409baff9f1d93089d6e3",
       "version_major": 2,
       "version_minor": 0
      },
      "text/plain": [
       "model-00002-of-00002.safetensors:   0%|          | 0.00/241M [00:00<?, ?B/s]"
      ]
     },
     "metadata": {},
     "output_type": "display_data"
    },
    {
     "data": {
      "application/vnd.jupyter.widget-view+json": {
       "model_id": "add6492b5e1043e1a340914cc75aefbb",
       "version_major": 2,
       "version_minor": 0
      },
      "text/plain": [
       "Loading checkpoint shards:   0%|          | 0/2 [00:00<?, ?it/s]"
      ]
     },
     "metadata": {},
     "output_type": "display_data"
    },
    {
     "name": "stderr",
     "output_type": "stream",
     "text": [
      "Some weights of Gemma2ForSequenceClassification were not initialized from the model checkpoint at google/gemma-2-2b-it and are newly initialized: ['score.weight']\n",
      "You should probably TRAIN this model on a down-stream task to be able to use it for predictions and inference.\n"
     ]
    },
    {
     "name": "stdout",
     "output_type": "stream",
     "text": [
      "trainable params: 22,387,200 || all params: 2,636,752,128 || trainable%: 0.8490\n"
     ]
    }
   ],
   "source": [
    "import torch\n",
    "from transformers import Gemma2ForSequenceClassification, BitsAndBytesConfig\n",
    "from peft import get_peft_config, prepare_model_for_kbit_training, PeftModel, PeftConfig, get_peft_model, LoraConfig, TaskType\n",
    "\n",
    "nf4_config = BitsAndBytesConfig(\n",
    "   load_in_4bit=True,\n",
    "   bnb_4bit_quant_type=\"nf4\",\n",
    "   bnb_4bit_use_double_quant=False,\n",
    "   bnb_4bit_compute_dtype=torch.float16\n",
    ")\n",
    "\n",
    "model = Gemma2ForSequenceClassification.from_pretrained(\n",
    "    PRETRAINED_MODEL,\n",
    "    num_labels=10,\n",
    "    torch_dtype=torch.float16, ## nobf\n",
    "    device_map=\"cuda:0\",\n",
    "    quantization_config=nf4_config\n",
    ")\n",
    "\n",
    "lora_config = LoraConfig(\n",
    "    r=32,  # the dimension of the low-rank matrices\n",
    "    lora_alpha=16, # scaling factor for LoRA activations vs pre-trained weight activations\n",
    "    lora_dropout=0.05, \n",
    "    bias='none',\n",
    "    inference_mode=False,\n",
    "    task_type=TaskType.SEQ_CLS,\n",
    "    target_modules=['o_proj', 'v_proj', \"q_proj\", \"k_proj\", \"gate_proj\"]\n",
    ") \n",
    "\n",
    "model = get_peft_model(model, lora_config)\n",
    "# Trainable Parameters\n",
    "model.print_trainable_parameters()\n",
    "\n"
   ]
  },
  {
   "cell_type": "code",
   "execution_count": 14,
   "id": "a200f391-0721-4ca6-aaa4-156f33a6fa85",
   "metadata": {
    "execution": {
     "iopub.execute_input": "2025-03-27T09:05:57.176613Z",
     "iopub.status.busy": "2025-03-27T09:05:57.176329Z",
     "iopub.status.idle": "2025-03-27T09:05:57.184945Z",
     "shell.execute_reply": "2025-03-27T09:05:57.184346Z",
     "shell.execute_reply.started": "2025-03-27T09:05:57.176592Z"
    },
    "trusted": true
   },
   "outputs": [],
   "source": [
    "import os\n",
    "import random\n",
    "import numpy as np\n",
    "import torch\n",
    "\n",
    "def set_seeds(seed):\n",
    "    \"\"\"Set seeds for reproducibility \"\"\"\n",
    "    os.environ['PYTHONHASHSEED'] = str(seed)\n",
    "    random.seed(seed)\n",
    "    np.random.seed(seed)\n",
    "    torch.manual_seed(seed)\n",
    "    if torch.cuda.is_available():\n",
    "        torch.cuda.manual_seed(seed)\n",
    "        torch.cuda.manual_seed_all(seed)\n",
    "        \n",
    "\n",
    "set_seeds(seed=42)"
   ]
  },
  {
   "cell_type": "code",
   "execution_count": 15,
   "id": "dbf9d320-d23b-4077-a5a6-49bc3d44372c",
   "metadata": {
    "execution": {
     "iopub.execute_input": "2025-03-27T09:05:57.185977Z",
     "iopub.status.busy": "2025-03-27T09:05:57.185694Z",
     "iopub.status.idle": "2025-03-27T09:05:59.339864Z",
     "shell.execute_reply": "2025-03-27T09:05:59.338847Z",
     "shell.execute_reply.started": "2025-03-27T09:05:57.185947Z"
    },
    "trusted": true
   },
   "outputs": [
    {
     "data": {
      "text/plain": [
       "array([0.03610675, 0.07849294, 0.1007326 , 0.04107797, 0.04133961,\n",
       "       0.51622187, 0.12637363, 0.12087912, 0.13396128, 0.12114076])"
      ]
     },
     "execution_count": 15,
     "metadata": {},
     "output_type": "execute_result"
    }
   ],
   "source": [
    "import numpy as np\n",
    "from scipy.optimize import minimize_scalar\n",
    "\n",
    "def find_thresholds_for_distribution(preds, desired_distribution):\n",
    "    \"\"\"\n",
    "    Find thresholds for each class to achieve the desired class distribution.\n",
    "\n",
    "    Args:\n",
    "        preds (ndarray): Array of shape (num_samples, num_classes) with probabilities (after sigmoid).\n",
    "        desired_distribution (list): Desired proportion of positive samples for each class.\n",
    "\n",
    "    Returns:\n",
    "        thresholds (list): List of thresholds for each class.\n",
    "    \"\"\"\n",
    "    num_classes = preds.shape[1]\n",
    "    thresholds = []\n",
    "\n",
    "    for class_idx in range(num_classes):\n",
    "        probs = preds[:, class_idx]\n",
    "        desired_ratio = desired_distribution[class_idx]\n",
    "\n",
    "        # Function to minimize the difference between actual and desired positive ratios\n",
    "        def objective(threshold):\n",
    "            predicted_ratio = (probs >= threshold).mean()\n",
    "            return abs(predicted_ratio - desired_ratio)\n",
    "\n",
    "        # Find the threshold using optimization\n",
    "        result = minimize_scalar(objective, bounds=(0, 1), method=\"bounded\")\n",
    "        thresholds.append(result.x)\n",
    "\n",
    "    return thresholds\n",
    "df[targets].mean().values"
   ]
  },
  {
   "cell_type": "code",
   "execution_count": 16,
   "id": "73bd5bed-ec13-4898-805c-92d5861a125e",
   "metadata": {
    "execution": {
     "iopub.execute_input": "2025-03-27T09:05:59.342471Z",
     "iopub.status.busy": "2025-03-27T09:05:59.342101Z",
     "iopub.status.idle": "2025-03-27T09:06:01.732207Z",
     "shell.execute_reply": "2025-03-27T09:06:01.731255Z",
     "shell.execute_reply.started": "2025-03-27T09:05:59.342436Z"
    },
    "trusted": true
   },
   "outputs": [],
   "source": [
    "import os\n",
    "from transformers import (AutoTokenizer, TrainingArguments, Trainer,\n",
    "                          AutoModelForSequenceClassification, DataCollatorWithPadding)\n",
    "from sklearn.metrics import f1_score\n",
    "import numpy as np\n",
    "\n",
    "\n",
    "TARGET_DISTRIBUTION = df[targets].mean().values\n",
    "\n",
    "\n",
    "def compute_metrics(eval_pred):\n",
    "    logits, labels = eval_pred\n",
    "    proba = torch.nn.functional.sigmoid(torch.tensor(logits)).numpy()\n",
    "    optimal_thresholds = find_thresholds_for_distribution(\n",
    "        proba, desired_distribution=TARGET_DISTRIBUTION\n",
    "    )\n",
    "    binarized_preds = (proba >= np.array(optimal_thresholds)).astype(int)\n",
    "\n",
    "    return {\"f1\": f1_score(labels, binarized_preds, average=\"macro\")}\n",
    "\n",
    "\n",
    "train_args = TrainingArguments(\n",
    "    output_dir='model_checkpoints_gemma2_qlora_tholds',\n",
    "    logging_dir='./model_logs_gemma2_qlora_tholds',\n",
    "    learning_rate=2e-5,\n",
    "    weight_decay=0.01,\n",
    "    lr_scheduler_type='cosine',\n",
    "    warmup_ratio=0.0,\n",
    "    num_train_epochs=3,\n",
    "    per_device_train_batch_size=1,\n",
    "    per_device_eval_batch_size=1,\n",
    "    gradient_accumulation_steps=8,\n",
    "    #bf16=False, ## NO SUPPORT \n",
    "    #gradient_checkpointing=True,\n",
    "    report_to=\"wandb\",\n",
    "    optim='adamw_8bit',\n",
    "    eval_strategy='steps',\n",
    "    save_strategy=\"steps\",\n",
    "    eval_steps=200,\n",
    "    logging_steps=20,\n",
    "    save_steps=200,\n",
    "    save_total_limit=10,\n",
    "    metric_for_best_model='f1',\n",
    "    greater_is_better=True,\n",
    "    load_best_model_at_end=True,\n",
    ")"
   ]
  },
  {
   "cell_type": "code",
   "execution_count": 17,
   "id": "6a763d67-ea26-4c83-a860-47c0618c8042",
   "metadata": {
    "execution": {
     "iopub.execute_input": "2025-03-27T09:06:01.734079Z",
     "iopub.status.busy": "2025-03-27T09:06:01.733663Z",
     "iopub.status.idle": "2025-03-27T09:06:01.741884Z",
     "shell.execute_reply": "2025-03-27T09:06:01.740675Z",
     "shell.execute_reply.started": "2025-03-27T09:06:01.734036Z"
    },
    "trusted": true
   },
   "outputs": [],
   "source": [
    "from torch.nn import BCEWithLogitsLoss\n",
    "\n",
    "class CustomTrainer(Trainer):\n",
    "    def __init__(self, *args, **kwargs):\n",
    "        super().__init__(*args, **kwargs)\n",
    "        self.class_weights = torch.tensor((1/df[targets].mean()).tolist()).cuda()\n",
    "\n",
    "    def compute_loss(self, model, inputs, return_outputs=False, *args, **kwargs):\n",
    "        outputs = model(inputs['input_ids'], inputs['attention_mask'])\n",
    "        logits = outputs.logits\n",
    "\n",
    "        # Initialize BCEWithLogitsLoss with class weights\n",
    "        #loss_fn = BCEWithLogitsLoss(weight=self.class_weights)\n",
    "        loss_fn = BCEWithLogitsLoss()\n",
    "        #print(logits[:2])\n",
    "        #print(inputs['labels'][:2])\n",
    "        loss = loss_fn(logits, inputs['labels'].float())\n",
    "\n",
    "        return (loss, outputs) if return_outputs else loss"
   ]
  },
  {
   "cell_type": "code",
   "execution_count": 18,
   "id": "406cadaf-ae13-4bed-8bb5-bdf8327494fe",
   "metadata": {
    "execution": {
     "iopub.execute_input": "2025-03-27T09:06:01.743061Z",
     "iopub.status.busy": "2025-03-27T09:06:01.742763Z",
     "iopub.status.idle": "2025-03-27T10:20:58.938733Z",
     "shell.execute_reply": "2025-03-27T10:20:58.938067Z",
     "shell.execute_reply.started": "2025-03-27T09:06:01.743038Z"
    },
    "trusted": true
   },
   "outputs": [
    {
     "name": "stderr",
     "output_type": "stream",
     "text": [
      "<ipython-input-17-253d12176855>:5: FutureWarning: `tokenizer` is deprecated and will be removed in version 5.0.0 for `CustomTrainer.__init__`. Use `processing_class` instead.\n",
      "  super().__init__(*args, **kwargs)\n",
      "\u001b[34m\u001b[1mwandb\u001b[0m: \u001b[33mWARNING\u001b[0m The `run_name` is currently set to the same value as `TrainingArguments.output_dir`. If this was not intended, please specify a different run name by setting the `TrainingArguments.run_name` parameter.\n"
     ]
    },
    {
     "data": {
      "text/html": [
       "\n",
       "    <div>\n",
       "      \n",
       "      <progress value='1146' max='1146' style='width:300px; height:20px; vertical-align: middle;'></progress>\n",
       "      [1146/1146 1:14:51, Epoch 2/3]\n",
       "    </div>\n",
       "    <table border=\"1\" class=\"dataframe\">\n",
       "  <thead>\n",
       " <tr style=\"text-align: left;\">\n",
       "      <th>Step</th>\n",
       "      <th>Training Loss</th>\n",
       "      <th>Validation Loss</th>\n",
       "      <th>F1</th>\n",
       "    </tr>\n",
       "  </thead>\n",
       "  <tbody>\n",
       "    <tr>\n",
       "      <td>200</td>\n",
       "      <td>0.277700</td>\n",
       "      <td>0.297964</td>\n",
       "      <td>0.241201</td>\n",
       "    </tr>\n",
       "    <tr>\n",
       "      <td>400</td>\n",
       "      <td>0.234700</td>\n",
       "      <td>0.273063</td>\n",
       "      <td>0.339056</td>\n",
       "    </tr>\n",
       "    <tr>\n",
       "      <td>600</td>\n",
       "      <td>0.269700</td>\n",
       "      <td>0.262036</td>\n",
       "      <td>0.313778</td>\n",
       "    </tr>\n",
       "    <tr>\n",
       "      <td>800</td>\n",
       "      <td>0.232900</td>\n",
       "      <td>0.253994</td>\n",
       "      <td>0.361396</td>\n",
       "    </tr>\n",
       "    <tr>\n",
       "      <td>1000</td>\n",
       "      <td>0.261200</td>\n",
       "      <td>0.252486</td>\n",
       "      <td>0.413346</td>\n",
       "    </tr>\n",
       "  </tbody>\n",
       "</table><p>"
      ],
      "text/plain": [
       "<IPython.core.display.HTML object>"
      ]
     },
     "metadata": {},
     "output_type": "display_data"
    },
    {
     "name": "stderr",
     "output_type": "stream",
     "text": [
      "The 'batch_size' argument of HybridCache is deprecated and will be removed in v4.49. Use the more precisely named 'max_batch_size' argument instead.\n",
      "The 'batch_size' attribute of HybridCache is deprecated and will be removed in v4.49. Use the more precisely named 'self.max_batch_size' attribute instead.\n"
     ]
    },
    {
     "data": {
      "text/plain": [
       "TrainOutput(global_step=1146, training_loss=0.26924921070301927, metrics={'train_runtime': 4495.3411, 'train_samples_per_second': 2.041, 'train_steps_per_second': 0.255, 'total_flos': 2.045182098306816e+16, 'train_loss': 0.26924921070301927, 'epoch': 2.9941137998691953})"
      ]
     },
     "execution_count": 18,
     "metadata": {},
     "output_type": "execute_result"
    }
   ],
   "source": [
    "trainer = CustomTrainer(\n",
    "    model=model, \n",
    "    args=train_args, \n",
    "    train_dataset=ds_train,\n",
    "    eval_dataset=ds_eval,\n",
    "    tokenizer=tokenizer,\n",
    "    data_collator=DataCollatorWithPadding(tokenizer),\n",
    "    compute_metrics=compute_metrics\n",
    ")\n",
    "trainer.train()"
   ]
  },
  {
   "cell_type": "code",
   "execution_count": 19,
   "id": "ca5e0b25-01d0-4cbe-9d80-67d0b162ec02",
   "metadata": {
    "execution": {
     "iopub.execute_input": "2025-03-27T10:21:48.799851Z",
     "iopub.status.busy": "2025-03-27T10:21:48.799522Z",
     "iopub.status.idle": "2025-03-27T10:24:20.364768Z",
     "shell.execute_reply": "2025-03-27T10:24:20.363888Z",
     "shell.execute_reply.started": "2025-03-27T10:21:48.799827Z"
    },
    "trusted": true
   },
   "outputs": [
    {
     "data": {
      "text/html": [],
      "text/plain": [
       "<IPython.core.display.HTML object>"
      ]
     },
     "metadata": {},
     "output_type": "display_data"
    }
   ],
   "source": [
    "preds_val = trainer.predict(ds_eval)"
   ]
  },
  {
   "cell_type": "code",
   "execution_count": 20,
   "id": "86457925-d11e-4545-bddd-346246307588",
   "metadata": {
    "execution": {
     "iopub.execute_input": "2025-03-27T10:24:22.944943Z",
     "iopub.status.busy": "2025-03-27T10:24:22.944639Z",
     "iopub.status.idle": "2025-03-27T10:24:22.951815Z",
     "shell.execute_reply": "2025-03-27T10:24:22.950899Z",
     "shell.execute_reply.started": "2025-03-27T10:24:22.944918Z"
    },
    "trusted": true
   },
   "outputs": [],
   "source": [
    "import numpy as np\n",
    "from sklearn.metrics import f1_score\n",
    "\n",
    "def optimize_thresholds(preds, targets, num_thresholds=100):\n",
    "    \"\"\"\n",
    "    Find optimal thresholds for each class to maximize average F1 score.\n",
    "    \n",
    "    Args:\n",
    "        preds (ndarray): Array of shape (num_samples, num_classes) with logits.\n",
    "        targets (ndarray): Array of shape (num_samples, num_classes) with binary ground-truth labels.\n",
    "        num_thresholds (int): Number of thresholds to evaluate (default: 100).\n",
    "\n",
    "    Returns:\n",
    "        optimal_thresholds (list): List of optimal thresholds for each class.\n",
    "        best_avg_f1 (float): Best average F1 score achieved.\n",
    "    \"\"\"\n",
    "    num_classes = preds.shape[1]\n",
    "    thresholds = np.linspace(0, 1, num_thresholds)\n",
    "    optimal_thresholds = []\n",
    "    best_avg_f1 = 0\n",
    "\n",
    "    for class_idx in tqdm(range(num_classes)):\n",
    "        best_f1 = 0\n",
    "        best_threshold = 0\n",
    "        for threshold in thresholds:\n",
    "            # Binarize predictions for this class\n",
    "            binarized_preds = (preds[:, class_idx] >= threshold).astype(int)\n",
    "            # Calculate F1 score for this class\n",
    "            f1 = f1_score(targets[:, class_idx], binarized_preds, zero_division=0)\n",
    "            if f1 > best_f1:\n",
    "                best_f1 = f1\n",
    "                best_threshold = threshold\n",
    "        optimal_thresholds.append(best_threshold)\n",
    "    \n",
    "    # Calculate average F1 score across all classes using optimal thresholds\n",
    "    binarized_preds = (preds >= np.array(optimal_thresholds)).astype(int)\n",
    "    avg_f1 = f1_score(targets, binarized_preds, average='macro', zero_division=0)\n",
    "\n",
    "    return optimal_thresholds, avg_f1"
   ]
  },
  {
   "cell_type": "code",
   "execution_count": 21,
   "id": "0ce7be33-db2d-4278-b2d0-12db1b68b69d",
   "metadata": {
    "execution": {
     "iopub.execute_input": "2025-03-27T10:24:25.290462Z",
     "iopub.status.busy": "2025-03-27T10:24:25.290106Z",
     "iopub.status.idle": "2025-03-27T10:24:26.590815Z",
     "shell.execute_reply": "2025-03-27T10:24:26.590102Z",
     "shell.execute_reply.started": "2025-03-27T10:24:25.290432Z"
    },
    "trusted": true
   },
   "outputs": [
    {
     "data": {
      "application/vnd.jupyter.widget-view+json": {
       "model_id": "88e7352d9052460c994cd37a9692661c",
       "version_major": 2,
       "version_minor": 0
      },
      "text/plain": [
       "  0%|          | 0/10 [00:00<?, ?it/s]"
      ]
     },
     "metadata": {},
     "output_type": "display_data"
    }
   ],
   "source": [
    "optimal_thresholds, best_avg_f1 = optimize_thresholds(\n",
    "    torch.nn.functional.sigmoid(\n",
    "        torch.tensor(preds_val.predictions)).numpy(), preds_val.label_ids)"
   ]
  },
  {
   "cell_type": "code",
   "execution_count": 22,
   "id": "a0a718b2-cb59-4210-95ae-018936489926",
   "metadata": {
    "execution": {
     "iopub.execute_input": "2025-03-27T10:24:29.264245Z",
     "iopub.status.busy": "2025-03-27T10:24:29.263939Z",
     "iopub.status.idle": "2025-03-27T10:24:29.270104Z",
     "shell.execute_reply": "2025-03-27T10:24:29.269297Z",
     "shell.execute_reply.started": "2025-03-27T10:24:29.264222Z"
    },
    "trusted": true
   },
   "outputs": [
    {
     "data": {
      "text/plain": [
       "0.46218882500187747"
      ]
     },
     "execution_count": 22,
     "metadata": {},
     "output_type": "execute_result"
    }
   ],
   "source": [
    "best_avg_f1"
   ]
  },
  {
   "cell_type": "code",
   "execution_count": 23,
   "id": "6f3cc8a1-d9ad-4011-ad22-a5e784253d55",
   "metadata": {
    "execution": {
     "iopub.execute_input": "2025-03-27T10:24:32.999985Z",
     "iopub.status.busy": "2025-03-27T10:24:32.999676Z",
     "iopub.status.idle": "2025-03-27T10:24:33.004451Z",
     "shell.execute_reply": "2025-03-27T10:24:33.003722Z",
     "shell.execute_reply.started": "2025-03-27T10:24:32.999961Z"
    },
    "trusted": true
   },
   "outputs": [],
   "source": [
    "optimal_thresholds_notnull = np.array(optimal_thresholds) + 1e-6"
   ]
  },
  {
   "cell_type": "code",
   "execution_count": 24,
   "id": "aea046b2-c00b-4375-9eb9-be4c48e3ba82",
   "metadata": {
    "execution": {
     "iopub.execute_input": "2025-03-27T10:24:33.858209Z",
     "iopub.status.busy": "2025-03-27T10:24:33.857891Z",
     "iopub.status.idle": "2025-03-27T10:24:33.863256Z",
     "shell.execute_reply": "2025-03-27T10:24:33.862520Z",
     "shell.execute_reply.started": "2025-03-27T10:24:33.858185Z"
    },
    "trusted": true
   },
   "outputs": [],
   "source": [
    "binarized_preds = (torch.nn.functional.sigmoid(\n",
    "        torch.tensor(preds_val.predictions)).numpy() >= np.array(optimal_thresholds_notnull)).astype(int)"
   ]
  },
  {
   "cell_type": "code",
   "execution_count": 25,
   "id": "bc092b44-554d-49cd-969c-29a70970ca91",
   "metadata": {
    "execution": {
     "iopub.execute_input": "2025-03-27T10:24:34.762983Z",
     "iopub.status.busy": "2025-03-27T10:24:34.762669Z",
     "iopub.status.idle": "2025-03-27T10:24:34.772805Z",
     "shell.execute_reply": "2025-03-27T10:24:34.771862Z",
     "shell.execute_reply.started": "2025-03-27T10:24:34.762955Z"
    },
    "trusted": true
   },
   "outputs": [
    {
     "data": {
      "text/plain": [
       "0.46218882500187747"
      ]
     },
     "execution_count": 25,
     "metadata": {},
     "output_type": "execute_result"
    }
   ],
   "source": [
    "f1_score(preds_val.label_ids, binarized_preds, average='macro', zero_division=0)"
   ]
  },
  {
   "cell_type": "code",
   "execution_count": 26,
   "id": "d18f2a5f-8318-4f2c-b9ab-420f5ab89dcd",
   "metadata": {
    "execution": {
     "iopub.execute_input": "2025-03-27T10:24:53.051119Z",
     "iopub.status.busy": "2025-03-27T10:24:53.050829Z",
     "iopub.status.idle": "2025-03-27T10:43:33.083619Z",
     "shell.execute_reply": "2025-03-27T10:43:33.082804Z",
     "shell.execute_reply.started": "2025-03-27T10:24:53.051098Z"
    },
    "trusted": true
   },
   "outputs": [
    {
     "data": {
      "text/html": [],
      "text/plain": [
       "<IPython.core.display.HTML object>"
      ]
     },
     "metadata": {},
     "output_type": "display_data"
    }
   ],
   "source": [
    "preds_test = trainer.predict(ds_test)"
   ]
  },
  {
   "cell_type": "code",
   "execution_count": 27,
   "id": "0f62d438-8ec8-4206-a929-fabd32265b7d",
   "metadata": {
    "execution": {
     "iopub.execute_input": "2025-03-27T10:43:37.990107Z",
     "iopub.status.busy": "2025-03-27T10:43:37.989783Z",
     "iopub.status.idle": "2025-03-27T10:43:37.996099Z",
     "shell.execute_reply": "2025-03-27T10:43:37.995427Z",
     "shell.execute_reply.started": "2025-03-27T10:43:37.990080Z"
    },
    "trusted": true
   },
   "outputs": [],
   "source": [
    "binarized_preds = (torch.nn.functional.sigmoid(\n",
    "        torch.tensor(preds_test.predictions)).numpy() >= np.array(optimal_thresholds_notnull)).astype(int)"
   ]
  },
  {
   "cell_type": "code",
   "execution_count": 28,
   "id": "808a0a48-73a9-4de3-873a-b5ec570ca0d1",
   "metadata": {
    "execution": {
     "iopub.execute_input": "2025-03-27T10:43:39.284528Z",
     "iopub.status.busy": "2025-03-27T10:43:39.284238Z",
     "iopub.status.idle": "2025-03-27T10:43:39.290842Z",
     "shell.execute_reply": "2025-03-27T10:43:39.290203Z",
     "shell.execute_reply.started": "2025-03-27T10:43:39.284506Z"
    },
    "trusted": true
   },
   "outputs": [],
   "source": [
    "for ind, col in enumerate(ssubmission.columns[1:]):\n",
    "    ssubmission[col] = binarized_preds[:, ind]"
   ]
  },
  {
   "cell_type": "code",
   "execution_count": 31,
   "id": "6f0842a3-aab1-413d-90d1-6b76653117ba",
   "metadata": {
    "execution": {
     "iopub.execute_input": "2025-03-27T10:44:41.006125Z",
     "iopub.status.busy": "2025-03-27T10:44:41.005819Z",
     "iopub.status.idle": "2025-03-27T10:44:41.028164Z",
     "shell.execute_reply": "2025-03-27T10:44:41.027315Z",
     "shell.execute_reply.started": "2025-03-27T10:44:41.006103Z"
    },
    "trusted": true
   },
   "outputs": [],
   "source": [
    "ssubmission.to_csv('/kaggle/working/gemma2-2b-cv0.462.csv', index=False)"
   ]
  },
  {
   "cell_type": "code",
   "execution_count": 32,
   "id": "30e09b70-7679-4a59-94bd-2e8335d2d61e",
   "metadata": {
    "execution": {
     "iopub.execute_input": "2025-03-27T10:44:47.333647Z",
     "iopub.status.busy": "2025-03-27T10:44:47.333342Z",
     "iopub.status.idle": "2025-03-27T10:44:47.339864Z",
     "shell.execute_reply": "2025-03-27T10:44:47.339136Z",
     "shell.execute_reply.started": "2025-03-27T10:44:47.333625Z"
    },
    "trusted": true
   },
   "outputs": [],
   "source": [
    "import numpy as np\n",
    "from scipy.optimize import minimize_scalar\n",
    "\n",
    "def find_thresholds_for_distribution(preds, desired_distribution):\n",
    "    \"\"\"\n",
    "    Find thresholds for each class to achieve the desired class distribution.\n",
    "\n",
    "    Args:\n",
    "        preds (ndarray): Array of shape (num_samples, num_classes) with probabilities (after sigmoid).\n",
    "        desired_distribution (list): Desired proportion of positive samples for each class.\n",
    "\n",
    "    Returns:\n",
    "        thresholds (list): List of thresholds for each class.\n",
    "    \"\"\"\n",
    "    num_classes = preds.shape[1]\n",
    "    thresholds = []\n",
    "\n",
    "    for class_idx in range(num_classes):\n",
    "        probs = preds[:, class_idx]\n",
    "        desired_ratio = desired_distribution[class_idx]\n",
    "\n",
    "        # Function to minimize the difference between actual and desired positive ratios\n",
    "        def objective(threshold):\n",
    "            predicted_ratio = (probs >= threshold).mean()\n",
    "            return abs(predicted_ratio - desired_ratio)\n",
    "\n",
    "        # Find the threshold using optimization\n",
    "        result = minimize_scalar(objective, bounds=(0, 1), method=\"bounded\")\n",
    "        thresholds.append(result.x)\n",
    "\n",
    "    return thresholds"
   ]
  },
  {
   "cell_type": "code",
   "execution_count": 33,
   "id": "f5285222-bafe-4651-9f01-b9165f4d5484",
   "metadata": {
    "execution": {
     "iopub.execute_input": "2025-03-27T10:44:48.437109Z",
     "iopub.status.busy": "2025-03-27T10:44:48.436822Z",
     "iopub.status.idle": "2025-03-27T10:44:48.445437Z",
     "shell.execute_reply": "2025-03-27T10:44:48.444661Z",
     "shell.execute_reply.started": "2025-03-27T10:44:48.437088Z"
    },
    "trusted": true
   },
   "outputs": [
    {
     "data": {
      "text/plain": [
       "array([0.03610675, 0.07849294, 0.1007326 , 0.04107797, 0.04133961,\n",
       "       0.51622187, 0.12637363, 0.12087912, 0.13396128, 0.12114076])"
      ]
     },
     "execution_count": 33,
     "metadata": {},
     "output_type": "execute_result"
    }
   ],
   "source": [
    "df[targets].mean().values"
   ]
  },
  {
   "cell_type": "code",
   "execution_count": 34,
   "id": "9e8125a6-3dc6-4699-8b42-81ae2f6c2b9a",
   "metadata": {
    "execution": {
     "iopub.execute_input": "2025-03-27T10:44:51.628746Z",
     "iopub.status.busy": "2025-03-27T10:44:51.628436Z",
     "iopub.status.idle": "2025-03-27T10:44:51.642019Z",
     "shell.execute_reply": "2025-03-27T10:44:51.641360Z",
     "shell.execute_reply.started": "2025-03-27T10:44:51.628722Z"
    },
    "trusted": true
   },
   "outputs": [],
   "source": [
    "optimal_thresholds = find_thresholds_for_distribution(\n",
    "    torch.nn.functional.sigmoid(\n",
    "        torch.tensor(preds_val.predictions)).numpy(), desired_distribution=df[targets].mean().values)"
   ]
  },
  {
   "cell_type": "code",
   "execution_count": 35,
   "id": "81ec3703-6bdf-4582-96ea-b826254e4c0f",
   "metadata": {
    "execution": {
     "iopub.execute_input": "2025-03-27T10:44:52.956096Z",
     "iopub.status.busy": "2025-03-27T10:44:52.955771Z",
     "iopub.status.idle": "2025-03-27T10:44:52.961233Z",
     "shell.execute_reply": "2025-03-27T10:44:52.960532Z",
     "shell.execute_reply.started": "2025-03-27T10:44:52.956071Z"
    },
    "trusted": true
   },
   "outputs": [],
   "source": [
    "binarized_preds = (torch.nn.functional.sigmoid(\n",
    "        torch.tensor(preds_val.predictions)).numpy() >= np.array(optimal_thresholds)).astype(int)"
   ]
  },
  {
   "cell_type": "code",
   "execution_count": 36,
   "id": "4bedec44-6fd3-4d60-b9ab-3ee3536e1c36",
   "metadata": {
    "execution": {
     "iopub.execute_input": "2025-03-27T10:44:54.893384Z",
     "iopub.status.busy": "2025-03-27T10:44:54.892950Z",
     "iopub.status.idle": "2025-03-27T10:44:54.905178Z",
     "shell.execute_reply": "2025-03-27T10:44:54.904322Z",
     "shell.execute_reply.started": "2025-03-27T10:44:54.893345Z"
    },
    "trusted": true
   },
   "outputs": [
    {
     "data": {
      "text/plain": [
       "0.41334614420016724"
      ]
     },
     "execution_count": 36,
     "metadata": {},
     "output_type": "execute_result"
    }
   ],
   "source": [
    "f1_score(preds_val.label_ids, binarized_preds, average='macro', zero_division=0)"
   ]
  },
  {
   "cell_type": "code",
   "execution_count": 37,
   "id": "42feecdb-6a9c-48fb-87e6-ce07b734bea0",
   "metadata": {
    "execution": {
     "iopub.execute_input": "2025-03-27T10:45:16.325629Z",
     "iopub.status.busy": "2025-03-27T10:45:16.325308Z",
     "iopub.status.idle": "2025-03-27T10:45:16.331020Z",
     "shell.execute_reply": "2025-03-27T10:45:16.330298Z",
     "shell.execute_reply.started": "2025-03-27T10:45:16.325607Z"
    },
    "trusted": true
   },
   "outputs": [],
   "source": [
    "binarized_preds = (torch.nn.functional.sigmoid(\n",
    "        torch.tensor(preds_test.predictions)).numpy() >= np.array(optimal_thresholds)).astype(int)"
   ]
  },
  {
   "cell_type": "code",
   "execution_count": 38,
   "id": "670a6a05-404b-47cf-817d-bcf5b079a88b",
   "metadata": {
    "execution": {
     "iopub.execute_input": "2025-03-27T10:45:17.613309Z",
     "iopub.status.busy": "2025-03-27T10:45:17.612969Z",
     "iopub.status.idle": "2025-03-27T10:45:17.619618Z",
     "shell.execute_reply": "2025-03-27T10:45:17.618924Z",
     "shell.execute_reply.started": "2025-03-27T10:45:17.613282Z"
    },
    "trusted": true
   },
   "outputs": [
    {
     "data": {
      "text/plain": [
       "array([0.03156059, 0.08387097, 0.08666085, 0.        , 0.05858762,\n",
       "       0.52850915, 0.12327812, 0.12258065, 0.13077594, 0.10549259])"
      ]
     },
     "execution_count": 38,
     "metadata": {},
     "output_type": "execute_result"
    }
   ],
   "source": [
    "binarized_preds.mean(axis=0)"
   ]
  },
  {
   "cell_type": "code",
   "execution_count": 39,
   "id": "4a5beb42-323a-4966-bd95-ccc74e9ccbde",
   "metadata": {
    "execution": {
     "iopub.execute_input": "2025-03-27T10:45:19.132256Z",
     "iopub.status.busy": "2025-03-27T10:45:19.131940Z",
     "iopub.status.idle": "2025-03-27T10:45:19.138050Z",
     "shell.execute_reply": "2025-03-27T10:45:19.137234Z",
     "shell.execute_reply.started": "2025-03-27T10:45:19.132232Z"
    },
    "trusted": true
   },
   "outputs": [],
   "source": [
    "for ind, col in enumerate(ssubmission.columns[1:]):\n",
    "    ssubmission[col] = binarized_preds[:, ind]"
   ]
  },
  {
   "cell_type": "code",
   "execution_count": 40,
   "id": "0a1566ac-fb8e-4e2c-b266-a0c24b5c5145",
   "metadata": {
    "execution": {
     "iopub.execute_input": "2025-03-27T10:45:33.031493Z",
     "iopub.status.busy": "2025-03-27T10:45:33.031128Z",
     "iopub.status.idle": "2025-03-27T10:45:33.053208Z",
     "shell.execute_reply": "2025-03-27T10:45:33.052575Z",
     "shell.execute_reply.started": "2025-03-27T10:45:33.031466Z"
    },
    "trusted": true
   },
   "outputs": [],
   "source": [
    "ssubmission.to_csv('/kaggle/working/gemma2-2b-cv0.413.csv', index=False)"
   ]
  },
  {
   "cell_type": "code",
   "execution_count": 42,
   "id": "c89d121f-4176-4141-80a9-3bbf250741a1",
   "metadata": {
    "execution": {
     "iopub.execute_input": "2025-03-27T11:04:51.572042Z",
     "iopub.status.busy": "2025-03-27T11:04:51.571741Z",
     "iopub.status.idle": "2025-03-27T11:04:59.346451Z",
     "shell.execute_reply": "2025-03-27T11:04:59.345695Z",
     "shell.execute_reply.started": "2025-03-27T11:04:51.572021Z"
    },
    "trusted": true
   },
   "outputs": [
    {
     "data": {
      "text/plain": [
       "'/kaggle/working/Gemma2b-translation-ckpt1000.zip'"
      ]
     },
     "execution_count": 42,
     "metadata": {},
     "output_type": "execute_result"
    }
   ],
   "source": [
    "import shutil\n",
    "shutil.make_archive('Gemma2b-translation-ckpt1000', 'zip', '/kaggle/working/model_checkpoints_gemma2_qlora_tholds/checkpoint-1000')\n"
   ]
  },
  {
   "cell_type": "code",
   "execution_count": null,
   "id": "acab32e1-67e7-4804-b03f-0a144d80b06a",
   "metadata": {},
   "outputs": [],
   "source": []
  }
 ],
 "metadata": {
  "kaggle": {
   "accelerator": "gpu",
   "dataSources": [
    {
     "datasetId": 6655418,
     "sourceId": 11178591,
     "sourceType": "datasetVersion"
    }
   ],
   "dockerImageVersionId": 30919,
   "isGpuEnabled": true,
   "isInternetEnabled": true,
   "language": "python",
   "sourceType": "notebook"
  },
  "kernelspec": {
   "display_name": "Python 3",
   "language": "python",
   "name": "python3"
  },
  "language_info": {
   "codemirror_mode": {
    "name": "ipython",
    "version": 3
   },
   "file_extension": ".py",
   "mimetype": "text/x-python",
   "name": "python",
   "nbconvert_exporter": "python",
   "pygments_lexer": "ipython3",
   "version": "3.10.12"
  }
 },
 "nbformat": 4,
 "nbformat_minor": 5
}
