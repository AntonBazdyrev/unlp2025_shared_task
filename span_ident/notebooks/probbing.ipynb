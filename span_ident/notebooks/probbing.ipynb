{
 "cells": [
  {
   "cell_type": "code",
   "execution_count": 1,
   "id": "fa6ba5c2-3b3b-4c56-9ddb-f11f9609de99",
   "metadata": {},
   "outputs": [],
   "source": [
    "import pandas as pd\n",
    "import pandas.api.types\n",
    "from sklearn.metrics import f1_score\n",
    "import ast\n",
    "\n",
    "\n",
    "class ParticipantVisibleError(Exception):\n",
    "    \"\"\"Custom exception for participant-visible errors.\"\"\"\n",
    "    pass\n",
    "\n",
    "\n",
    "def score(solution: pd.DataFrame, submission: pd.DataFrame, row_id_column_name: str) -> float:\n",
    "    \"\"\"\n",
    "    Compute span-level F1 score based on overlap.\n",
    "\n",
    "    Parameters:\n",
    "    - solution (pd.DataFrame): Ground truth DataFrame with row ID and token labels.\n",
    "    - submission (pd.DataFrame): Submission DataFrame with row ID and token labels.\n",
    "    - row_id_column_name (str): Column name for the row identifier.\n",
    "\n",
    "    Returns:\n",
    "    - float: The token-level weighted F1 score.\n",
    "\n",
    "    Example:\n",
    "    >>> solution = pd.DataFrame({\n",
    "    ...     \"id\": [1, 2, 3],\n",
    "    ...     \"trigger_words\": [[(612, 622), (725, 831)], [(300, 312)], []]\n",
    "    ... })\n",
    "    >>> submission = pd.DataFrame({\n",
    "    ...     \"id\": [1, 2, 3],\n",
    "    ...     \"trigger_words\": [[(612, 622), (700, 720)], [(300, 312)], [(100, 200)]]\n",
    "    ... })\n",
    "    >>> score(solution, submission, \"id\")\n",
    "    0.16296296296296295\n",
    "    \"\"\"\n",
    "    if not all(col in solution.columns for col in [\"id\", \"trigger_words\"]):\n",
    "        raise ValueError(\"Solution DataFrame must contain 'id' and 'trigger_words' columns.\")\n",
    "    if not all(col in submission.columns for col in [\"id\", \"trigger_words\"]):\n",
    "        raise ValueError(\"Submission DataFrame must contain 'id' and 'trigger_words' columns.\")\n",
    "    \n",
    "    def safe_parse_spans(trigger_words):\n",
    "        if isinstance(trigger_words, str):\n",
    "            try:\n",
    "                return ast.literal_eval(trigger_words)\n",
    "            except (ValueError, SyntaxError):\n",
    "                return []\n",
    "        if isinstance(trigger_words, (list, tuple)):\n",
    "            return trigger_words\n",
    "        return []\n",
    "\n",
    "    def extract_tokens_from_spans(spans):\n",
    "        tokens = set()\n",
    "        for start, end in spans:\n",
    "            tokens.update(range(start, end))\n",
    "        return tokens\n",
    "    \n",
    "    solution = solution.copy()\n",
    "    submission = submission.copy()\n",
    "\n",
    "    solution[\"trigger_words\"] = solution[\"trigger_words\"].apply(safe_parse_spans)\n",
    "    submission[\"trigger_words\"] = submission[\"trigger_words\"].apply(safe_parse_spans)\n",
    "\n",
    "    merged = pd.merge(\n",
    "        solution,\n",
    "        submission,\n",
    "        on=\"id\",\n",
    "        suffixes=(\"_solution\", \"_submission\")\n",
    "    )\n",
    "\n",
    "    total_true_tokens = 0\n",
    "    total_pred_tokens = 0\n",
    "    overlapping_tokens = 0\n",
    "\n",
    "    for _, row in merged.iterrows():\n",
    "        true_spans = row[\"trigger_words_solution\"]\n",
    "        pred_spans = row[\"trigger_words_submission\"]\n",
    "\n",
    "        true_tokens = extract_tokens_from_spans(true_spans)\n",
    "        pred_tokens = extract_tokens_from_spans(pred_spans)\n",
    "\n",
    "        total_true_tokens += len(true_tokens)\n",
    "        total_pred_tokens += len(pred_tokens)\n",
    "        overlapping_tokens += len(true_tokens & pred_tokens)\n",
    "\n",
    "    precision = overlapping_tokens / total_pred_tokens if total_pred_tokens > 0 else 0\n",
    "    recall = overlapping_tokens / total_true_tokens if total_true_tokens > 0 else 0\n",
    "    f1 = (2 * precision * recall) / (precision + recall) if (precision + recall) > 0 else 0\n",
    "\n",
    "    return f1"
   ]
  },
  {
   "cell_type": "code",
   "execution_count": 2,
   "id": "2e327828-0340-44df-b4f6-9e8da855c8ad",
   "metadata": {},
   "outputs": [],
   "source": [
    "import pandas as pd\n",
    "\n",
    "df = pd.read_parquet('train.parquet')\n",
    "\n",
    "ssubmission = pd.read_csv('sample_submission.csv')\n",
    "test = pd.read_csv('test.csv')"
   ]
  },
  {
   "cell_type": "code",
   "execution_count": 6,
   "id": "c180f256-4fe0-4a08-bbc6-916af3c9a37d",
   "metadata": {},
   "outputs": [
    {
     "data": {
      "text/plain": [
       "1.0"
      ]
     },
     "execution_count": 6,
     "metadata": {},
     "output_type": "execute_result"
    }
   ],
   "source": [
    "score(solution=ssubmission, submission=ssubmission, row_id_column_name='id')"
   ]
  },
  {
   "cell_type": "code",
   "execution_count": 9,
   "id": "9972b989-2e08-465e-b195-e3cdb556c359",
   "metadata": {},
   "outputs": [
    {
     "data": {
      "text/plain": [
       "0"
      ]
     },
     "execution_count": 9,
     "metadata": {},
     "output_type": "execute_result"
    }
   ],
   "source": [
    "score(solution=df, submission=df, row_id_column_name='id')"
   ]
  },
  {
   "cell_type": "code",
   "execution_count": 18,
   "id": "35b2ce1c-86d6-4768-b167-df9ab9b19404",
   "metadata": {},
   "outputs": [],
   "source": [
    "from copy import deepcopy\n",
    "\n",
    "df_ss = deepcopy(df)"
   ]
  },
  {
   "cell_type": "code",
   "execution_count": 22,
   "id": "0e6357c5-1e03-4a4f-bca6-04f46e6b9370",
   "metadata": {},
   "outputs": [],
   "source": [
    "def safe_string(row):\n",
    "    if row is None:\n",
    "        return '[]'\n",
    "    else:\n",
    "        return str([(s[0], s[1]) for s in row])\n",
    "\n",
    "df_ss['trigger_words'] = df_ss.trigger_words.apply(safe_string)"
   ]
  },
  {
   "cell_type": "code",
   "execution_count": 26,
   "id": "a308e2b9-be18-4d7a-91a3-72c14824a702",
   "metadata": {},
   "outputs": [
    {
     "data": {
      "text/plain": [
       "1.0"
      ]
     },
     "execution_count": 26,
     "metadata": {},
     "output_type": "execute_result"
    }
   ],
   "source": [
    "score(solution=df_ss, submission=df_ss, row_id_column_name='id')"
   ]
  },
  {
   "cell_type": "code",
   "execution_count": 37,
   "id": "55c43f0e-bb00-4270-81fa-162eff0e30c8",
   "metadata": {},
   "outputs": [],
   "source": [
    "dfnotna = df.dropna(subset=['trigger_words'])"
   ]
  },
  {
   "cell_type": "code",
   "execution_count": 43,
   "id": "5921f899-1eb5-41b0-85ad-2149a12662f4",
   "metadata": {},
   "outputs": [],
   "source": [
    "total_len = dfnotna.content.str.len()"
   ]
  },
  {
   "cell_type": "code",
   "execution_count": 44,
   "id": "9ec8ed25-a521-4068-a2bf-def96aebe382",
   "metadata": {},
   "outputs": [],
   "source": [
    "used_len = dfnotna.trigger_words.apply(lambda x: sum([y[1] - y[0] for y in x]))"
   ]
  },
  {
   "cell_type": "code",
   "execution_count": 46,
   "id": "270631db-6746-471d-be9d-4343f5bf3caf",
   "metadata": {},
   "outputs": [
    {
     "data": {
      "text/plain": [
       "0.41976577139166515"
      ]
     },
     "execution_count": 46,
     "metadata": {},
     "output_type": "execute_result"
    }
   ],
   "source": [
    "(used_len/total_len).mean()"
   ]
  },
  {
   "cell_type": "code",
   "execution_count": 54,
   "id": "919f1ea8-bdfa-4092-b275-144bd9c08be3",
   "metadata": {},
   "outputs": [],
   "source": [
    "from copy import deepcopy\n",
    "\n",
    "full_len_sub = deepcopy(df_ss)\n",
    "full_len_sub['trigger_words'] = full_len_sub.content.str.len().apply(lambda x: str([(0, x)]))"
   ]
  },
  {
   "cell_type": "code",
   "execution_count": 55,
   "id": "3eb536ec-129a-493d-a46c-9e377fe4df71",
   "metadata": {},
   "outputs": [
    {
     "data": {
      "text/plain": [
       "0.3959288009776071"
      ]
     },
     "execution_count": 55,
     "metadata": {},
     "output_type": "execute_result"
    }
   ],
   "source": [
    "score(solution=df_ss, submission=full_len_sub, row_id_column_name='id')"
   ]
  },
  {
   "cell_type": "code",
   "execution_count": 68,
   "id": "d26a0ca4-dd1b-422c-9ec0-9e2791928571",
   "metadata": {},
   "outputs": [],
   "source": [
    "test = pd.read_csv('test.csv')"
   ]
  },
  {
   "cell_type": "code",
   "execution_count": 69,
   "id": "72e25653-4cb2-4a8d-be8e-60d903cfbfc5",
   "metadata": {},
   "outputs": [],
   "source": [
    "full_len_sub = deepcopy(test)\n",
    "full_len_sub['trigger_words'] = full_len_sub.content.str.len().apply(lambda x: str([(0, x)]))"
   ]
  },
  {
   "cell_type": "code",
   "execution_count": 73,
   "id": "e1153ea9-824e-4c74-90f1-c953d88a49d9",
   "metadata": {},
   "outputs": [],
   "source": [
    "full_len_sub[['id', 'trigger_words']].to_csv('submissions/naive_baseline_full_length_cv0.396.csv', index=False)"
   ]
  },
  {
   "cell_type": "code",
   "execution_count": null,
   "id": "f3505a77-2aa5-4e60-8486-8d8ef58e364c",
   "metadata": {},
   "outputs": [],
   "source": []
  },
  {
   "cell_type": "code",
   "execution_count": 57,
   "id": "8f347b0d-d341-4d93-8399-bde73772ec59",
   "metadata": {},
   "outputs": [],
   "source": [
    "from copy import deepcopy\n",
    "\n",
    "half_len_sub = deepcopy(df_ss)\n",
    "half_len_sub['trigger_words'] = half_len_sub.content.str.len().apply(lambda x: str([(int(0.3*x), int(x - 0.3*x))]))"
   ]
  },
  {
   "cell_type": "code",
   "execution_count": 59,
   "id": "b7d92c72-a810-45d7-b1e5-11dc52636459",
   "metadata": {},
   "outputs": [
    {
     "data": {
      "text/plain": [
       "0.2887426263234015"
      ]
     },
     "execution_count": 59,
     "metadata": {},
     "output_type": "execute_result"
    }
   ],
   "source": [
    "score(solution=df_ss, submission=half_len_sub, row_id_column_name='id')"
   ]
  },
  {
   "cell_type": "code",
   "execution_count": null,
   "id": "fb3b26d3-a7f2-4df7-a1d5-92034e69b2cb",
   "metadata": {},
   "outputs": [],
   "source": []
  },
  {
   "cell_type": "code",
   "execution_count": null,
   "id": "9adfe75a-5310-4529-94a6-f70a76d781af",
   "metadata": {},
   "outputs": [],
   "source": []
  },
  {
   "cell_type": "code",
   "execution_count": null,
   "id": "f7c326b3-84eb-4160-950c-c9dd877f0c92",
   "metadata": {},
   "outputs": [],
   "source": []
  },
  {
   "cell_type": "code",
   "execution_count": null,
   "id": "f103119e-5cde-4361-9192-feacc19d46e8",
   "metadata": {},
   "outputs": [],
   "source": []
  }
 ],
 "metadata": {
  "kernelspec": {
   "display_name": "Python 3 (ipykernel)",
   "language": "python",
   "name": "python3"
  },
  "language_info": {
   "codemirror_mode": {
    "name": "ipython",
    "version": 3
   },
   "file_extension": ".py",
   "mimetype": "text/x-python",
   "name": "python",
   "nbconvert_exporter": "python",
   "pygments_lexer": "ipython3",
   "version": "3.12.2"
  }
 },
 "nbformat": 4,
 "nbformat_minor": 5
}
