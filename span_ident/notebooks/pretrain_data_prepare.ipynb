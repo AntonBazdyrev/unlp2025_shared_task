{
 "cells": [
  {
   "cell_type": "code",
   "execution_count": 1,
   "id": "495388d6-ca46-4e30-b5ee-4d4fb03a917d",
   "metadata": {},
   "outputs": [],
   "source": [
    "import pandas as pd\n",
    "\n",
    "df1 = pd.read_json(\n",
    "    '../../pretrain_data/zeusfsx_ukrainian_news/ukrainian-telegram.jsonl', lines=True, nrows=10\n",
    ")"
   ]
  },
  {
   "cell_type": "code",
   "execution_count": 2,
   "id": "673e0092-63ff-494f-9598-4574d1fc2136",
   "metadata": {},
   "outputs": [],
   "source": [
    "df2 = pd.read_json('../../pretrain_data/russian_news_telegram_dataset/scoutieRussianNewsTelegramDataset.json', lines=True, nrows=10)"
   ]
  },
  {
   "cell_type": "code",
   "execution_count": 3,
   "id": "3656356d-74ea-4a1a-85dd-c4f4c0ace7a5",
   "metadata": {},
   "outputs": [],
   "source": [
    "df3 = pd.read_json('../../pretrain_data/telegram_data_war_in_ukraine/telegram.jsonl', lines=True, nrows=10)"
   ]
  },
  {
   "cell_type": "code",
   "execution_count": null,
   "id": "57685610-6d7b-405a-9138-284c21f51f06",
   "metadata": {},
   "outputs": [],
   "source": [
    "df3-text\n",
    "df2-text\n",
    "df1-text"
   ]
  },
  {
   "cell_type": "code",
   "execution_count": 4,
   "id": "456708e4-00a9-40f5-aed5-be299e98add1",
   "metadata": {},
   "outputs": [
    {
     "name": "stderr",
     "output_type": "stream",
     "text": [
      "/tmp/ipykernel_1903548/880280367.py:4: TqdmExperimentalWarning: Using `tqdm.autonotebook.tqdm` in notebook mode. Use `tqdm.tqdm` instead to force console mode (e.g. in jupyter console)\n",
      "  from tqdm.autonotebook import tqdm\n"
     ]
    },
    {
     "data": {
      "application/vnd.jupyter.widget-view+json": {
       "model_id": "1094315c89b24643b2baec1414f41118",
       "version_major": 2,
       "version_minor": 0
      },
      "text/plain": [
       "0it [00:00, ?it/s]"
      ]
     },
     "metadata": {},
     "output_type": "display_data"
    },
    {
     "data": {
      "application/vnd.jupyter.widget-view+json": {
       "model_id": "7288aa5ad071408e8ed7a4af78014549",
       "version_major": 2,
       "version_minor": 0
      },
      "text/plain": [
       "0it [00:00, ?it/s]"
      ]
     },
     "metadata": {},
     "output_type": "display_data"
    },
    {
     "data": {
      "application/vnd.jupyter.widget-view+json": {
       "model_id": "91ea171c28d94fdfbe93459e1904969b",
       "version_major": 2,
       "version_minor": 0
      },
      "text/plain": [
       "0it [00:00, ?it/s]"
      ]
     },
     "metadata": {},
     "output_type": "display_data"
    },
    {
     "data": {
      "application/vnd.jupyter.widget-view+json": {
       "model_id": "d75f82afe1a04fb3a10e6b53918783c0",
       "version_major": 2,
       "version_minor": 0
      },
      "text/plain": [
       "0it [00:00, ?it/s]"
      ]
     },
     "metadata": {},
     "output_type": "display_data"
    }
   ],
   "source": [
    "import json\n",
    "import random\n",
    "import pandas as pd\n",
    "from tqdm.autonotebook import tqdm\n",
    "\n",
    "# List of JSONL files to merge\n",
    "jsonl_files = [\n",
    "    '../../pretrain_data/zeusfsx_ukrainian_news/ukrainian-telegram.jsonl',\n",
    "    '../../pretrain_data/russian_news_telegram_dataset/scoutieRussianNewsTelegramDataset.json',\n",
    "    '../../pretrain_data/telegram_data_war_in_ukraine/telegram.jsonl'\n",
    "]\n",
    "\n",
    "# Output file\n",
    "output_file = \"../../pretrain_data/merged_texts.jsonl\"\n",
    "\n",
    "# List to store text data\n",
    "texts = []\n",
    "\n",
    "# Read each file and extract 'text' column\n",
    "for ind, file in tqdm(enumerate(jsonl_files)):\n",
    "    with open(file, 'r', encoding='utf-8') as f:\n",
    "        for line in tqdm(f):\n",
    "            try:\n",
    "                data = json.loads(line)\n",
    "                if 'text' in data:  # Ensure 'text' column exists\n",
    "                    if ind == 0 and random.random() >= 0.9:\n",
    "                        texts.append(data['text'])\n",
    "                    elif ind > 0:\n",
    "                        texts.append(data['text'])\n",
    "            except json.JSONDecodeError:\n",
    "                print(f\"Skipping malformed line in {file}\")"
   ]
  },
  {
   "cell_type": "code",
   "execution_count": 5,
   "id": "0d5f9aa9-a00d-4a3f-b969-597d595f7198",
   "metadata": {},
   "outputs": [],
   "source": [
    "import pandas as pd\n",
    "\n",
    "df = pd.read_parquet('train.parquet')\n",
    "test = pd.read_csv('test.csv')"
   ]
  },
  {
   "cell_type": "code",
   "execution_count": 6,
   "id": "03543a3c-28e4-46f4-95e2-dbb630b9d5d7",
   "metadata": {},
   "outputs": [],
   "source": [
    "for t in df.content.tolist():\n",
    "    texts.append(t)"
   ]
  },
  {
   "cell_type": "code",
   "execution_count": 7,
   "id": "96d81d3b-b5d5-46d7-ab6e-6d3720874722",
   "metadata": {},
   "outputs": [],
   "source": [
    "for t in test.content.tolist():\n",
    "    texts.append(t)"
   ]
  },
  {
   "cell_type": "code",
   "execution_count": 8,
   "id": "9445797a-9eb4-4bfe-b6a4-431077375e4e",
   "metadata": {},
   "outputs": [
    {
     "data": {
      "application/vnd.jupyter.widget-view+json": {
       "model_id": "213ac422e93748c2af2fc3c950c29f24",
       "version_major": 2,
       "version_minor": 0
      },
      "text/plain": [
       "  0%|          | 0/1195076 [00:00<?, ?it/s]"
      ]
     },
     "metadata": {},
     "output_type": "display_data"
    }
   ],
   "source": [
    "true_lines_counter = 0\n",
    "\n",
    "with open('../../pretrain_data/merged_texts_mlm_sample.txt', 'w') as file:\n",
    "    for line in tqdm(texts):\n",
    "        if isinstance(line, str):\n",
    "            write_ln = line.strip()\n",
    "            file.write(write_ln + '\\n')\n",
    "            if len(write_ln) > 0:\n",
    "                true_lines_counter += 1"
   ]
  },
  {
   "cell_type": "code",
   "execution_count": 9,
   "id": "4b698e24-a478-47aa-acb5-7f1b1f7743f5",
   "metadata": {},
   "outputs": [
    {
     "data": {
      "text/plain": [
       "1193389"
      ]
     },
     "execution_count": 9,
     "metadata": {},
     "output_type": "execute_result"
    }
   ],
   "source": [
    "true_lines_counter"
   ]
  },
  {
   "cell_type": "code",
   "execution_count": null,
   "id": "391f789e-41b0-4c0c-a329-666ffc38b0f0",
   "metadata": {},
   "outputs": [],
   "source": []
  }
 ],
 "metadata": {
  "kernelspec": {
   "display_name": "Python 3 (ipykernel)",
   "language": "python",
   "name": "python3"
  },
  "language_info": {
   "codemirror_mode": {
    "name": "ipython",
    "version": 3
   },
   "file_extension": ".py",
   "mimetype": "text/x-python",
   "name": "python",
   "nbconvert_exporter": "python",
   "pygments_lexer": "ipython3",
   "version": "3.12.2"
  }
 },
 "nbformat": 4,
 "nbformat_minor": 5
}
