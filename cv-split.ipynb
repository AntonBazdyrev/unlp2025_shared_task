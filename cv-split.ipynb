{
 "cells": [
  {
   "cell_type": "code",
   "execution_count": 1,
   "id": "b7373d0b-b072-45af-8462-0ff7919a953e",
   "metadata": {},
   "outputs": [],
   "source": [
    "import numpy as np\n",
    "import pandas as pd\n",
    "from iterstrat.ml_stratifiers import MultilabelStratifiedKFold\n",
    "\n",
    "import pandas as pd\n",
    "\n",
    "df = pd.read_parquet('train.parquet')\n",
    "\n",
    "ssubmission = pd.read_csv('sample_submission.csv')\n",
    "test = pd.read_csv('test.csv')"
   ]
  },
  {
   "cell_type": "code",
   "execution_count": 2,
   "id": "6c875f0e-a08d-4b0f-9f6a-e1083254db75",
   "metadata": {},
   "outputs": [],
   "source": [
    "targets = ssubmission.set_index('id').columns"
   ]
  },
  {
   "cell_type": "code",
   "execution_count": 3,
   "id": "283f1360-c65b-47b7-a04f-5e6c140a8f43",
   "metadata": {},
   "outputs": [],
   "source": [
    "for col in targets:\n",
    "    df[col] = 0"
   ]
  },
  {
   "cell_type": "code",
   "execution_count": 5,
   "id": "a43fa96f-fbec-491b-951c-01e094197330",
   "metadata": {},
   "outputs": [],
   "source": [
    "from collections.abc import Iterable\n",
    "import numpy as np\n",
    "for ind, row in df.iterrows():\n",
    "    if isinstance(row['techniques'], Iterable):\n",
    "        for t in row['techniques']:\n",
    "            df.loc[ind, t] = 1"
   ]
  },
  {
   "cell_type": "code",
   "execution_count": 6,
   "id": "9f643ee6-b7b9-4488-bfd2-8287dd01b691",
   "metadata": {},
   "outputs": [],
   "source": [
    "y_true = df[targets].values"
   ]
  },
  {
   "cell_type": "code",
   "execution_count": 7,
   "id": "b9728dd7-76cd-4821-b48f-e860ce2dcd61",
   "metadata": {},
   "outputs": [],
   "source": [
    "y_zero = np.zeros_like(y_true)\n",
    "y_one = np.ones_like(y_true)"
   ]
  },
  {
   "cell_type": "code",
   "execution_count": 10,
   "id": "8540418b-bb6f-41d6-9e20-bf7feeac6cbc",
   "metadata": {},
   "outputs": [
    {
     "data": {
      "text/plain": [
       "array([0.03610675, 0.07849294, 0.1007326 , 0.04107797, 0.04133961,\n",
       "       0.51622187, 0.12637363, 0.12087912, 0.13396128, 0.12114076])"
      ]
     },
     "execution_count": 10,
     "metadata": {},
     "output_type": "execute_result"
    }
   ],
   "source": [
    "y_true.mean(axis=0)"
   ]
  },
  {
   "cell_type": "code",
   "execution_count": 12,
   "id": "1ef1a4ef-9c55-4aa2-a5e2-b9cb4241ba42",
   "metadata": {},
   "outputs": [],
   "source": [
    "# Define 5-Fold Multilabel Stratification\n",
    "n_splits = 5\n",
    "mlskf = MultilabelStratifiedKFold(n_splits=n_splits, shuffle=True, random_state=42)\n",
    "\n",
    "# Splitting the dataset\n",
    "test_indexes = []\n",
    "for fold, (train_idx, test_idx) in enumerate(mlskf.split(df, y_true)):\n",
    "    test_indexes.append(test_idx)"
   ]
  },
  {
   "cell_type": "code",
   "execution_count": 16,
   "id": "12e12dac-eac5-4ebe-a642-29edcb2515f6",
   "metadata": {},
   "outputs": [],
   "source": [
    "df['fold'] = -1"
   ]
  },
  {
   "cell_type": "code",
   "execution_count": 17,
   "id": "8b8ce5cf-7cf0-407a-b5fc-d21afe719401",
   "metadata": {},
   "outputs": [],
   "source": [
    "for ind, test_idx in enumerate(test_indexes):\n",
    "    df.loc[test_idx, 'fold'] = ind"
   ]
  },
  {
   "cell_type": "code",
   "execution_count": 19,
   "id": "71e5efe2-fd7f-4524-931a-27b67b715e0b",
   "metadata": {},
   "outputs": [
    {
     "data": {
      "text/plain": [
       "fold\n",
       "1    765\n",
       "3    765\n",
       "2    764\n",
       "0    764\n",
       "4    764\n",
       "Name: count, dtype: int64"
      ]
     },
     "execution_count": 19,
     "metadata": {},
     "output_type": "execute_result"
    }
   ],
   "source": [
    "df.fold.value_counts()"
   ]
  },
  {
   "cell_type": "code",
   "execution_count": 20,
   "id": "34cb64b1-ba04-4f61-826e-433c86b534df",
   "metadata": {},
   "outputs": [
    {
     "name": "stdout",
     "output_type": "stream",
     "text": [
      "0\n",
      "[0.03664921 0.07853403 0.10078534 0.04057592 0.04188482 0.51570681\n",
      " 0.12696335 0.12041885 0.13350785 0.12172775]\n",
      "1\n",
      "[0.03529412 0.07843137 0.10065359 0.04183007 0.04052288 0.51503268\n",
      " 0.1254902  0.12026144 0.13464052 0.12026144]\n",
      "2\n",
      "[0.03534031 0.07853403 0.10078534 0.04057592 0.04188482 0.51701571\n",
      " 0.12565445 0.12041885 0.13350785 0.12041885]\n",
      "3\n",
      "[0.03660131 0.07843137 0.10065359 0.04183007 0.04183007 0.51633987\n",
      " 0.12679739 0.12156863 0.13333333 0.12156863]\n",
      "4\n",
      "[0.03664921 0.07853403 0.10078534 0.04057592 0.04057592 0.51701571\n",
      " 0.12696335 0.12172775 0.13481675 0.12172775]\n"
     ]
    }
   ],
   "source": [
    "for fold_ind in range(5):\n",
    "    mask = (df.fold == fold_ind).values\n",
    "    print(fold_ind)\n",
    "    print(y_true[mask].mean(axis=0))"
   ]
  },
  {
   "cell_type": "code",
   "execution_count": 22,
   "id": "ebfcbb6f-96e7-454b-9b56-d23863f702f8",
   "metadata": {},
   "outputs": [
    {
     "data": {
      "text/plain": [
       "(fold\n",
       " 0    620.276178\n",
       " 1    618.558170\n",
       " 2    573.675393\n",
       " 3    637.626144\n",
       " 4    588.374346\n",
       " Name: content_len, dtype: float64,\n",
       " fold\n",
       " 0    432.0\n",
       " 1    407.0\n",
       " 2    385.0\n",
       " 3    462.0\n",
       " 4    403.0\n",
       " Name: content_len, dtype: float64)"
      ]
     },
     "execution_count": 22,
     "metadata": {},
     "output_type": "execute_result"
    }
   ],
   "source": [
    "df['content_len'] = df.content.str.len()\n",
    "df.groupby('fold').content_len.mean(), df.groupby('fold').content_len.median()"
   ]
  },
  {
   "cell_type": "code",
   "execution_count": 29,
   "id": "00e35b98-989a-4fd8-b0ae-d0854fdcfe49",
   "metadata": {},
   "outputs": [
    {
     "data": {
      "text/plain": [
       "(fold\n",
       " 0    146.578534\n",
       " 1    145.339869\n",
       " 2    153.742147\n",
       " 3    150.724183\n",
       " 4    154.413613\n",
       " Name: trigger_words_len, dtype: float64,\n",
       " fold\n",
       " 0    77.0\n",
       " 1    75.0\n",
       " 2    67.0\n",
       " 3    72.0\n",
       " 4    72.0\n",
       " Name: trigger_words_len, dtype: float64)"
      ]
     },
     "execution_count": 29,
     "metadata": {},
     "output_type": "execute_result"
    }
   ],
   "source": [
    "df['trigger_words_len'] = df.trigger_words.apply(lambda x: sum(y[1] - y[0] for y in x) if x is not None else 0)\n",
    "df.groupby('fold').trigger_words_len.mean(), df.groupby('fold').trigger_words_len.median()"
   ]
  },
  {
   "cell_type": "code",
   "execution_count": 31,
   "id": "49ec17f0-3bc2-41d7-9553-10e7e6d83462",
   "metadata": {},
   "outputs": [],
   "source": [
    "df[['id', 'fold']].to_csv('cv_split.csv', index=False)"
   ]
  }
 ],
 "metadata": {
  "kernelspec": {
   "display_name": "Python 3 (ipykernel)",
   "language": "python",
   "name": "python3"
  },
  "language_info": {
   "codemirror_mode": {
    "name": "ipython",
    "version": 3
   },
   "file_extension": ".py",
   "mimetype": "text/x-python",
   "name": "python",
   "nbconvert_exporter": "python",
   "pygments_lexer": "ipython3",
   "version": "3.12.2"
  }
 },
 "nbformat": 4,
 "nbformat_minor": 5
}
